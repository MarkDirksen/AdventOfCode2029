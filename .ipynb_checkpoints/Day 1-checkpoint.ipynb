{
 "cells": [
  {
   "cell_type": "code",
   "execution_count": 1,
   "metadata": {},
   "outputs": [],
   "source": [
    "module_mass = [95423,142796,88137,105610,79299,110633,136792,112578,75168,115615,147584,72145,108822,57753,96827,69117,131220,111193,120295,56240,111190,80740,137267,113183,126821,58966,63556,110977,100328,75367,57371,88235,134475,109071,92653,73347,135186,64534,81198,55423,100060,149555,110905,102826,129023,112618,146542,102579,67193,84258,60679,86674,124720,68719,55259,76421,70397,67998,73366,106401,59402,112481,131113,142606,107732,69291,61575,131019,51510,101215,116973,63530,146179,132427,127777,127040,143964,120340,144404,72156,96412,140554,60228,52590,128157,120444,125649,111641,117476,139326,149188,133599,55273,83773,50458,105166,76469,66681,84288,103708]"
   ]
  },
  {
   "cell_type": "code",
   "execution_count": 5,
   "metadata": {},
   "outputs": [],
   "source": [
    "import math"
   ]
  },
  {
   "cell_type": "markdown",
   "metadata": {},
   "source": [
    "Part 1"
   ]
  },
  {
   "cell_type": "code",
   "execution_count": 6,
   "metadata": {},
   "outputs": [],
   "source": [
    "def calc_fuel_req (m):\n",
    "    return(math.floor(m/3)-2)"
   ]
  },
  {
   "cell_type": "code",
   "execution_count": 12,
   "metadata": {},
   "outputs": [],
   "source": [
    "fuel_costs = []\n",
    "\n",
    "for i in module_mass:\n",
    "    m = calc_fuel_req(i)\n",
    "    fuel_costs.append(m)"
   ]
  },
  {
   "cell_type": "code",
   "execution_count": 14,
   "metadata": {},
   "outputs": [
    {
     "data": {
      "text/plain": [
       "3320816"
      ]
     },
     "execution_count": 14,
     "metadata": {},
     "output_type": "execute_result"
    }
   ],
   "source": [
    "sum(fuel_costs)"
   ]
  },
  {
   "cell_type": "markdown",
   "metadata": {},
   "source": [
    "Part 2"
   ]
  },
  {
   "cell_type": "code",
   "execution_count": 36,
   "metadata": {},
   "outputs": [],
   "source": [
    "def calc_total_fuel_req (m_i,m_t):\n",
    "    additional_fuel = calc_fuel_req(m_i)\n",
    "    if (additional_fuel > 0):\n",
    "        return(calc_total_fuel_req(additional_fuel,m_t + additional_fuel))\n",
    "    else:\n",
    "        return(m_t)"
   ]
  },
  {
   "cell_type": "code",
   "execution_count": 39,
   "metadata": {},
   "outputs": [
    {
     "name": "stdout",
     "output_type": "stream",
     "text": [
      "2\n",
      "966\n",
      "50346\n"
     ]
    }
   ],
   "source": [
    "#test examples\n",
    "print(calc_total_fuel_req(14,0))\n",
    "print(calc_total_fuel_req(1969,0))\n",
    "print(calc_total_fuel_req(100756,0))"
   ]
  },
  {
   "cell_type": "code",
   "execution_count": 41,
   "metadata": {},
   "outputs": [],
   "source": [
    "total_fuel_costs = []\n",
    "\n",
    "for i in module_mass:\n",
    "    m = calc_total_fuel_req(i,0)\n",
    "    total_fuel_costs.append(m)"
   ]
  },
  {
   "cell_type": "code",
   "execution_count": 43,
   "metadata": {},
   "outputs": [
    {
     "data": {
      "text/plain": [
       "4978360"
      ]
     },
     "execution_count": 43,
     "metadata": {},
     "output_type": "execute_result"
    }
   ],
   "source": [
    "sum(total_fuel_costs)"
   ]
  },
  {
   "cell_type": "code",
   "execution_count": null,
   "metadata": {},
   "outputs": [],
   "source": []
  }
 ],
 "metadata": {
  "kernelspec": {
   "display_name": "Python 3",
   "language": "python",
   "name": "python3"
  },
  "language_info": {
   "codemirror_mode": {
    "name": "ipython",
    "version": 3
   },
   "file_extension": ".py",
   "mimetype": "text/x-python",
   "name": "python",
   "nbconvert_exporter": "python",
   "pygments_lexer": "ipython3",
   "version": "3.7.3"
  }
 },
 "nbformat": 4,
 "nbformat_minor": 2
}
