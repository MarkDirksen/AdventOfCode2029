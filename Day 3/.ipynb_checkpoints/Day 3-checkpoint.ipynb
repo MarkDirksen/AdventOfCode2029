{
 "cells": [
  {
   "cell_type": "markdown",
   "metadata": {},
   "source": [
    "--- Day 3: Crossed Wires ---\n",
    "The gravity assist was successful, and you're well on your way to the Venus refuelling station. During the rush back on Earth, the fuel management system wasn't completely installed, so that's next on the priority list.\n",
    "\n",
    "Opening the front panel reveals a jumble of wires. Specifically, two wires are connected to a central port and extend outward on a grid. You trace the path each wire takes as it leaves the central port, one wire per line of text (your puzzle input).\n",
    "\n",
    "The wires twist and turn, but the two wires occasionally cross paths. To fix the circuit, you need to find the intersection point closest to the central port. Because the wires are on a grid, use the Manhattan distance for this measurement. While the wires do technically cross right at the central port where they both start, this point does not count, nor does a wire count as crossing with itself.\n",
    "\n",
    "For example, if the first wire's path is R8,U5,L5,D3, then starting from the central port (o), it goes right 8, up 5, left 5, and finally down 3:\n",
    "\n",
    "...........\n",
    "...........\n",
    "...........\n",
    "....+----+.\n",
    "....|....|.\n",
    "....|....|.\n",
    "....|....|.\n",
    ".........|.\n",
    ".o-------+.\n",
    "...........\n",
    "Then, if the second wire's path is U7,R6,D4,L4, it goes up 7, right 6, down 4, and left 4:\n",
    "\n",
    "...........\n",
    ".+-----+...\n",
    ".|.....|...\n",
    ".|..+--X-+.\n",
    ".|..|..|.|.\n",
    ".|.-X--+.|.\n",
    ".|..|....|.\n",
    ".|.......|.\n",
    ".o-------+.\n",
    "...........\n",
    "These wires cross at two locations (marked X), but the lower-left one is closer to the central port: its distance is 3 + 3 = 6.\n",
    "\n",
    "Here are a few more examples:\n",
    "\n",
    "R75,D30,R83,U83,L12,D49,R71,U7,L72\n",
    "U62,R66,U55,R34,D71,R55,D58,R83 = distance 159\n",
    "R98,U47,R26,D63,R33,U87,L62,D20,R33,U53,R51\n",
    "U98,R91,D20,R16,D67,R40,U7,R15,U6,R7 = distance 135\n",
    "What is the Manhattan distance from the central port to the closest intersection?"
   ]
  },
  {
   "cell_type": "code",
   "execution_count": 2,
   "metadata": {},
   "outputs": [],
   "source": [
    "wire1 = ['R1001','D890','R317','U322','L481','D597','L997','U390','L78','D287','L401','U638','R493','D493','R237','U29','R333','D466','L189','D634','R976','U934','R597','U62','L800','U229','R625','D927','L629','D334','L727','U4','R716','U20','L284','U655','R486','U883','R194','U49','L845','D960','R304','D811','L38','U114','R477','D318','L308','U445','L26','D44','R750','D12','R85','D146','R353','U715','R294','D595','L954','U267','L927','U383','L392','D866','L195','U487','L959','U630','R528','D482','R932','D541','L658','D171','L964','U687','R118','U53','L81','D381','R592','U238','L391','U399','R444','U921','R706','U925','R204','D220','L595','U489','R621','D15','R104','D567','L664','D54','R683','U654','R441','D748','L212','D147','L699','U296','L842','U230','L684','D470','R247','D421','R38','D757','L985','U791','R112','U494','R929','D726','L522','U381','R184','D492','L517','D819','R487','D620','R292','D206','R254','D175','L16','U924','R838','D423','R756','D720','L555','U449','L952','D610','L427','U391','R520','D957','R349','D670','L678','U467','R804','U757','L342','U808','R261','D597','L949','U162','R3','D712','L799','U531','R879','D355','R325','D173','L303','U679','L432','D421','R613','U431','L207','D669','R828','D685','R808','U494','R821','U195','L538','U16','L835','D442','L77','U309','L490','U918','L6','D200','L412','D272','L416','U774','L75','D23','L193','D574','R807','D382','L314','D885','R212','D806','L183','U345','L932','U58','L37','U471','R345','U678','R283','U644','L559','U892','L26','D358','L652','D606','L251','U791','L980','D718','L14','D367','R997','D812','R504','D474','L531','U708','R660','U253','L86','D491','R971','U608','L166','U659','R167','U92','L600','U20','R28','U852','R972','D409','L719','D634','R787','D796','L546','D857','L987','U111','L916','D108','R537','U931','R308','U385','L258','D171','R797','U641','R798','D723','R600','D710','R436','U587','R16','D564','L14','D651','R709','D587','R626','U270','R802','U937','R31','U518','L187','D738','R562','D238','R272','D403','R788','D859','L704','D621','L547','D737','L958','U311','L927']\n",
    "wire2 = ['L1007','U199','L531','D379','L313','U768','L87','U879','R659','U307','L551','D964','L725','D393','R239','D454','R664','U402','R100','D62','R53','D503','R918','U998','L843','D142','R561','U461','R723','D915','L217','D126','L673','U171','R131','U518','R298','U99','L852','D799','L159','U161','R569','D802','L391','D553','L839','U954','R502','U351','R851','D11','L243','D774','L642','U613','R376','U867','L357','D887','L184','D298','R406','U912','R900','D348','L779','U494','R240','D712','R849','D684','R475','D449','L94','U630','L770','D426','L304','D869','R740','D377','R435','D719','L815','D211','R391','U484','R350','U599','R57','U210','R95','U500','L947','D649','R615','D404','L953','D468','R380','U215','R82','D872','R150','D347','L700','D450','L90','U803','L593','U296','R408','U667','R407','U725','R197','U269','R115','D758','R558','U62','L519','U308','R259','U869','L846','U3','R592','D357','R633','D909','L826','U165','L190','D821','L525','U404','R63','D214','R265','U74','L715','U461','L840','D647','R782','D655','R72','D601','L435','U549','L108','U687','R836','D975','L972','U813','R258','U703','R90','D438','R434','D818','R184','D886','R271','U31','L506','U395','L274','U455','R699','U889','L162','U771','R752','U317','R267','D959','R473','U58','R552','U51','R637','D726','R713','D530','L209','D824','R275','D207','R357','D373','L169','U880','L636','U409','R67','D740','R225','D272','R114','U970','R51','U230','R859','U820','L979','D153','R16','D883','L542','U806','L523','D752','L712','U55','L739','U746','R910','D873','R108','D558','L54','D619','L444','U941','R613','U478','L839','D910','R426','D614','L622','U928','L65','D644','L208','U971','L939','U874','R827','U672','L620','U140','L493','D637','L767','U831','R874','U468','R648','U714','R294','D606','L375','D962','L105','D919','L486','D771','L827','D196','L408','U217','L960','D633','L850','U805','L188','U566','L884','D212','L677','D204','R257','D409','R309','D783','L773','D588','L302','U129','L550','U919','L482','U563','R290','U690','R586','D460','L771','D63','R451','D591','L861','D598','L432','U818','L182']"
   ]
  },
  {
   "cell_type": "code",
   "execution_count": 3,
   "metadata": {},
   "outputs": [
    {
     "data": {
      "text/plain": [
       "1001"
      ]
     },
     "execution_count": 3,
     "metadata": {},
     "output_type": "execute_result"
    }
   ],
   "source": [
    "int(wire1[0][1:])"
   ]
  },
  {
   "cell_type": "code",
   "execution_count": 9,
   "metadata": {},
   "outputs": [],
   "source": [
    "def find_points(lst):\n",
    "    output = []\n",
    "    coordinate = [0,0]\n",
    "    for i in lst:\n",
    "        direction = i[0]\n",
    "        length = int(i[1:])\n",
    "        if (direction == 'R'):\n",
    "            for j in range(1,length+1):\n",
    "                output.append([coordinate[0],coordinate[1]+j])\n",
    "            coordinate[1] = coordinate[1]+j\n",
    "        if (direction == 'L'):\n",
    "            for j in range(1,length+1):\n",
    "                output.append([coordinate[0],coordinate[1]-j])\n",
    "            coordinate[1] = coordinate[1]-j\n",
    "        if (direction == 'U'):\n",
    "            for j in range(1,length+1):\n",
    "                output.append([coordinate[0]+j,coordinate[1]])\n",
    "            coordinate[0] = coordinate[0]+j\n",
    "        if (direction == 'D'):\n",
    "            for j in range(1,length+1):\n",
    "                output.append([coordinate[0]-j,coordinate[1]])\n",
    "            coordinate[0] = coordinate[0]-j\n",
    "    return(output)\n",
    "            \n",
    "def find_common_points(lst1,lst2):\n",
    "    output = []\n",
    "    c=0\n",
    "    for i in lst1:\n",
    "        if((c/1000).is_integer()==True):\n",
    "            print(c)\n",
    "        for j in lst2:\n",
    "            if (i==j):\n",
    "                output.append(j)\n",
    "        c = c+1\n",
    "    return(output)\n",
    "        \n",
    "def find_manhattan_dist(lst):\n",
    "    output = list(range(len(lst)))\n",
    "    for i in range(len(lst)):\n",
    "        output[i]=abs(lst[i][0])+abs(lst[i][1])\n",
    "    return(output)"
   ]
  },
  {
   "cell_type": "code",
   "execution_count": 10,
   "metadata": {},
   "outputs": [
    {
     "name": "stdout",
     "output_type": "stream",
     "text": [
      "0\n"
     ]
    },
    {
     "data": {
      "text/plain": [
       "159"
      ]
     },
     "execution_count": 10,
     "metadata": {},
     "output_type": "execute_result"
    }
   ],
   "source": [
    "ex1_wire1 = ['R75','D30','R83','U83','L12','D49','R71','U7','L72']\n",
    "ex1_wire2 = ['U62','R66','U55','R34','D71','R55','D58','R83']\n",
    "ex1_points1 = find_points(ex1_wire1)\n",
    "ex1_points2 = find_points(ex1_wire2)\n",
    "ext1_common = find_common_points(ex1_points1,ex1_points2)\n",
    "min(find_manhattan_dist(ext1_common))"
   ]
  },
  {
   "cell_type": "code",
   "execution_count": 11,
   "metadata": {},
   "outputs": [
    {
     "name": "stdout",
     "output_type": "stream",
     "text": [
      "0\n"
     ]
    },
    {
     "data": {
      "text/plain": [
       "135"
      ]
     },
     "execution_count": 11,
     "metadata": {},
     "output_type": "execute_result"
    }
   ],
   "source": [
    "ex2_wire1 = ['R98','U47','R26','D63','R33','U87','L62','D20','R33','U53','R51']\n",
    "ex2_wire2 = ['U98','R91','D20','R16','D67','R40','U7','R15','U6','R7']\n",
    "ex2_points1 = find_points(ex2_wire1)\n",
    "ex2_points2 = find_points(ex2_wire2)\n",
    "ext2_common = find_common_points(ex2_points1,ex2_points2)\n",
    "min(find_manhattan_dist(ext2_common))"
   ]
  },
  {
   "cell_type": "code",
   "execution_count": 12,
   "metadata": {},
   "outputs": [
    {
     "data": {
      "text/plain": [
       "150295"
      ]
     },
     "execution_count": 12,
     "metadata": {},
     "output_type": "execute_result"
    }
   ],
   "source": [
    "points1 = find_points(wire1)\n",
    "len(points1)"
   ]
  },
  {
   "cell_type": "code",
   "execution_count": 13,
   "metadata": {},
   "outputs": [
    {
     "data": {
      "text/plain": [
       "155785"
      ]
     },
     "execution_count": 13,
     "metadata": {},
     "output_type": "execute_result"
    }
   ],
   "source": [
    "points2 = find_points(wire2)\n",
    "len(points2)"
   ]
  },
  {
   "cell_type": "code",
   "execution_count": 14,
   "metadata": {},
   "outputs": [
    {
     "name": "stdout",
     "output_type": "stream",
     "text": [
      "0\n",
      "1000\n",
      "2000\n",
      "3000\n",
      "4000\n",
      "5000\n",
      "6000\n",
      "7000\n",
      "8000\n",
      "9000\n",
      "10000\n",
      "11000\n",
      "12000\n",
      "13000\n",
      "14000\n",
      "15000\n",
      "16000\n",
      "17000\n",
      "18000\n",
      "19000\n",
      "20000\n",
      "21000\n",
      "22000\n",
      "23000\n",
      "24000\n",
      "25000\n",
      "26000\n",
      "27000\n",
      "28000\n",
      "29000\n",
      "30000\n",
      "31000\n",
      "32000\n",
      "33000\n",
      "34000\n",
      "35000\n",
      "36000\n",
      "37000\n",
      "38000\n",
      "39000\n",
      "40000\n",
      "41000\n",
      "42000\n",
      "43000\n",
      "44000\n",
      "45000\n",
      "46000\n",
      "47000\n",
      "48000\n",
      "49000\n",
      "50000\n",
      "51000\n",
      "52000\n",
      "53000\n",
      "54000\n",
      "55000\n",
      "56000\n",
      "57000\n",
      "58000\n",
      "59000\n",
      "60000\n",
      "61000\n",
      "62000\n",
      "63000\n",
      "64000\n",
      "65000\n",
      "66000\n",
      "67000\n",
      "68000\n",
      "69000\n",
      "70000\n",
      "71000\n",
      "72000\n",
      "73000\n",
      "74000\n",
      "75000\n",
      "76000\n",
      "77000\n",
      "78000\n",
      "79000\n",
      "80000\n",
      "81000\n",
      "82000\n",
      "83000\n",
      "84000\n",
      "85000\n",
      "86000\n",
      "87000\n",
      "88000\n",
      "89000\n",
      "90000\n",
      "91000\n",
      "92000\n",
      "93000\n",
      "94000\n",
      "95000\n",
      "96000\n",
      "97000\n",
      "98000\n",
      "99000\n",
      "100000\n",
      "101000\n",
      "102000\n",
      "103000\n",
      "104000\n",
      "105000\n",
      "106000\n",
      "107000\n",
      "108000\n",
      "109000\n",
      "110000\n",
      "111000\n",
      "112000\n",
      "113000\n",
      "114000\n",
      "115000\n",
      "116000\n",
      "117000\n",
      "118000\n",
      "119000\n",
      "120000\n",
      "121000\n",
      "122000\n",
      "123000\n",
      "124000\n",
      "125000\n",
      "126000\n",
      "127000\n",
      "128000\n",
      "129000\n",
      "130000\n",
      "131000\n",
      "132000\n",
      "133000\n",
      "134000\n",
      "135000\n",
      "136000\n",
      "137000\n",
      "138000\n",
      "139000\n",
      "140000\n",
      "141000\n",
      "142000\n",
      "143000\n",
      "144000\n",
      "145000\n",
      "146000\n",
      "147000\n",
      "148000\n",
      "149000\n",
      "150000\n"
     ]
    }
   ],
   "source": [
    "common = find_common_points(points1,points2)"
   ]
  },
  {
   "cell_type": "code",
   "execution_count": 15,
   "metadata": {},
   "outputs": [
    {
     "data": {
      "text/plain": [
       "352"
      ]
     },
     "execution_count": 15,
     "metadata": {},
     "output_type": "execute_result"
    }
   ],
   "source": [
    "min(find_manhattan_dist(common))"
   ]
  },
  {
   "cell_type": "code",
   "execution_count": 1,
   "metadata": {},
   "outputs": [
    {
     "data": {
      "text/plain": [
       "False"
      ]
     },
     "execution_count": 1,
     "metadata": {},
     "output_type": "execute_result"
    }
   ],
   "source": [
    "(1/100).is_integer()"
   ]
  },
  {
   "cell_type": "code",
   "execution_count": null,
   "metadata": {},
   "outputs": [],
   "source": []
  }
 ],
 "metadata": {
  "kernelspec": {
   "display_name": "Python 3",
   "language": "python",
   "name": "python3"
  },
  "language_info": {
   "codemirror_mode": {
    "name": "ipython",
    "version": 3
   },
   "file_extension": ".py",
   "mimetype": "text/x-python",
   "name": "python",
   "nbconvert_exporter": "python",
   "pygments_lexer": "ipython3",
   "version": "3.7.3"
  }
 },
 "nbformat": 4,
 "nbformat_minor": 2
}
