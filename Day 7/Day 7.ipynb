{
 "cells": [
  {
   "cell_type": "code",
   "execution_count": 1,
   "metadata": {},
   "outputs": [],
   "source": [
    "puzzle_input = [3,8,1001,8,10,8,105,1,0,0,21,30,51,72,81,94,175,256,337,418,99999,3,9,101,5,9,9,4,9,99,3,9,1001,9,3,9,1002,9,2,9,1001,9,2,9,1002,9,5,9,4,9,99,3,9,1002,9,4,9,101,4,9,9,102,5,9,9,101,3,9,9,4,9,99,3,9,1002,9,4,9,4,9,99,3,9,102,3,9,9,1001,9,4,9,4,9,99,3,9,1001,9,2,9,4,9,3,9,101,2,9,9,4,9,3,9,101,2,9,9,4,9,3,9,1001,9,1,9,4,9,3,9,101,1,9,9,4,9,3,9,101,1,9,9,4,9,3,9,101,1,9,9,4,9,3,9,1002,9,2,9,4,9,3,9,101,1,9,9,4,9,3,9,1002,9,2,9,4,9,99,3,9,102,2,9,9,4,9,3,9,1002,9,2,9,4,9,3,9,1001,9,1,9,4,9,3,9,102,2,9,9,4,9,3,9,1001,9,2,9,4,9,3,9,1002,9,2,9,4,9,3,9,101,1,9,9,4,9,3,9,101,1,9,9,4,9,3,9,101,2,9,9,4,9,3,9,102,2,9,9,4,9,99,3,9,102,2,9,9,4,9,3,9,102,2,9,9,4,9,3,9,1002,9,2,9,4,9,3,9,1001,9,1,9,4,9,3,9,1002,9,2,9,4,9,3,9,102,2,9,9,4,9,3,9,102,2,9,9,4,9,3,9,102,2,9,9,4,9,3,9,102,2,9,9,4,9,3,9,102,2,9,9,4,9,99,3,9,1001,9,2,9,4,9,3,9,101,1,9,9,4,9,3,9,1001,9,1,9,4,9,3,9,1001,9,1,9,4,9,3,9,102,2,9,9,4,9,3,9,101,1,9,9,4,9,3,9,1001,9,2,9,4,9,3,9,1002,9,2,9,4,9,3,9,1001,9,1,9,4,9,3,9,101,2,9,9,4,9,99,3,9,101,2,9,9,4,9,3,9,101,2,9,9,4,9,3,9,101,1,9,9,4,9,3,9,1001,9,1,9,4,9,3,9,1002,9,2,9,4,9,3,9,1001,9,1,9,4,9,3,9,1001,9,1,9,4,9,3,9,1001,9,2,9,4,9,3,9,1001,9,1,9,4,9,3,9,101,1,9,9,4,9,99]"
   ]
  },
  {
   "cell_type": "code",
   "execution_count": 2,
   "metadata": {},
   "outputs": [],
   "source": [
    "def int_something_or_other_revised_again(input_list,input_param):\n",
    "    ouput_list = input_list.copy()\n",
    "    i=0\n",
    "    while(int(str(ouput_list[i])[-2:])!=99):\n",
    "        string = str(ouput_list[i])\n",
    "        opcode = int(string[-2:])\n",
    "        \n",
    "        if len(string)>=3:\n",
    "            A = int(string[-3])\n",
    "        else:\n",
    "            A = 0\n",
    "        if len(string)>=4:\n",
    "            B = int(string[-4])\n",
    "        else:\n",
    "            B = 0\n",
    "        if len(string)>=5:\n",
    "            C = int(string[-5])\n",
    "        else:\n",
    "            C = 0\n",
    "            \n",
    "        if(A == 0):\n",
    "            par1 = ouput_list[ouput_list[i+1]]\n",
    "        else:\n",
    "            par1 = ouput_list[i+1]\n",
    "        \n",
    "        if((opcode!=3) and (opcode!=4)):\n",
    "            if(B == 0):\n",
    "                par2 = ouput_list[ouput_list[i+2]]\n",
    "            else:\n",
    "                par2 = ouput_list[i+2]\n",
    "            #if(B == 0):\n",
    "                #par3 = ouput_list[ouput_list[i+3]]\n",
    "            #else:\n",
    "                #par3 = ouput_list[i+3]\n",
    "        \n",
    "        if(opcode==1):\n",
    "            ouput_list[ouput_list[i+3]] = par1 + par2\n",
    "            i = i + 4\n",
    "        elif(opcode==2):\n",
    "            ouput_list[ouput_list[i+3]] = par1 * par2\n",
    "            i = i + 4\n",
    "        elif(opcode==3):\n",
    "            ouput_list[ouput_list[i+1]] = input_param\n",
    "            i = i + 2\n",
    "        elif(opcode==4):\n",
    "            output = par1\n",
    "            print(output)\n",
    "            i = i + 2\n",
    "        elif(opcode==5):\n",
    "            if(par1!=0):\n",
    "                i = par2\n",
    "            else:\n",
    "                i = i + 3\n",
    "        elif(opcode==6):\n",
    "            if(par1==0):\n",
    "                i = par2\n",
    "            else:\n",
    "                i = i + 3\n",
    "        elif(opcode==7):\n",
    "            if(par1<par2):\n",
    "                ouput_list[ouput_list[i+3]]=1\n",
    "            else:\n",
    "                ouput_list[ouput_list[i+3]]=0\n",
    "            i = i + 4\n",
    "        elif(opcode==8):\n",
    "            if(par1==par2):\n",
    "                ouput_list[ouput_list[i+3]]=1\n",
    "            else:\n",
    "                ouput_list[ouput_list[i+3]]=0\n",
    "            i = i + 4\n",
    "            \n",
    "        else:\n",
    "            print(\"error\")\n",
    "        \n",
    "    return(ouput_list)"
   ]
  },
  {
   "cell_type": "code",
   "execution_count": 10,
   "metadata": {},
   "outputs": [
    {
     "name": "stdout",
     "output_type": "stream",
     "text": [
      "44\n",
      "33\n",
      "22\n",
      "11\n",
      "0\n"
     ]
    }
   ],
   "source": [
    "test_input = [3,15,3,16,1002,16,10,16,1,16,15,15,4,15,99,0,0]\n",
    "\n",
    "phase4 = int_something_or_other_revised_again(test_input,4)\n",
    "phase3 = int_something_or_other_revised_again(test_input,3)\n",
    "phase2 = int_something_or_other_revised_again(test_input,2)\n",
    "phase1 = int_something_or_other_revised_again(test_input,1)\n",
    "phase0 = int_something_or_other_revised_again(test_input,0)"
   ]
  },
  {
   "cell_type": "code",
   "execution_count": 11,
   "metadata": {},
   "outputs": [
    {
     "name": "stdout",
     "output_type": "stream",
     "text": [
      "0\n"
     ]
    },
    {
     "data": {
      "text/plain": [
       "[3, 15, 3, 16, 1002, 16, 10, 16, 1, 16, 15, 15, 4, 15, 99, 0, 0]"
      ]
     },
     "execution_count": 11,
     "metadata": {},
     "output_type": "execute_result"
    }
   ],
   "source": [
    "int_something_or_other_revised_again(phase4,0)"
   ]
  },
  {
   "cell_type": "code",
   "execution_count": 12,
   "metadata": {},
   "outputs": [
    {
     "name": "stdout",
     "output_type": "stream",
     "text": [
      "0\n"
     ]
    },
    {
     "data": {
      "text/plain": [
       "[3, 15, 3, 16, 1002, 16, 10, 16, 1, 16, 15, 15, 4, 15, 99, 0, 0]"
      ]
     },
     "execution_count": 12,
     "metadata": {},
     "output_type": "execute_result"
    }
   ],
   "source": [
    "int_something_or_other_revised_again(phase3,0)"
   ]
  },
  {
   "cell_type": "code",
   "execution_count": 13,
   "metadata": {},
   "outputs": [
    {
     "name": "stdout",
     "output_type": "stream",
     "text": [
      "0\n"
     ]
    },
    {
     "data": {
      "text/plain": [
       "[3, 15, 3, 16, 1002, 16, 10, 16, 1, 16, 15, 15, 4, 15, 99, 0, 0]"
      ]
     },
     "execution_count": 13,
     "metadata": {},
     "output_type": "execute_result"
    }
   ],
   "source": [
    "int_something_or_other_revised_again(phase2,0)"
   ]
  },
  {
   "cell_type": "code",
   "execution_count": 14,
   "metadata": {},
   "outputs": [
    {
     "name": "stdout",
     "output_type": "stream",
     "text": [
      "0\n"
     ]
    },
    {
     "data": {
      "text/plain": [
       "[3, 15, 3, 16, 1002, 16, 10, 16, 1, 16, 15, 15, 4, 15, 99, 0, 0]"
      ]
     },
     "execution_count": 14,
     "metadata": {},
     "output_type": "execute_result"
    }
   ],
   "source": [
    "int_something_or_other_revised_again(phase1,0)"
   ]
  },
  {
   "cell_type": "code",
   "execution_count": 15,
   "metadata": {},
   "outputs": [
    {
     "name": "stdout",
     "output_type": "stream",
     "text": [
      "0\n"
     ]
    },
    {
     "data": {
      "text/plain": [
       "[3, 15, 3, 16, 1002, 16, 10, 16, 1, 16, 15, 15, 4, 15, 99, 0, 0]"
      ]
     },
     "execution_count": 15,
     "metadata": {},
     "output_type": "execute_result"
    }
   ],
   "source": [
    "int_something_or_other_revised_again(phase0,0)"
   ]
  },
  {
   "cell_type": "code",
   "execution_count": 16,
   "metadata": {},
   "outputs": [
    {
     "data": {
      "text/plain": [
       "[3, 15, 3, 16, 1002, 16, 10, 16, 1, 16, 15, 15, 4, 15, 99, 44, 40]"
      ]
     },
     "execution_count": 16,
     "metadata": {},
     "output_type": "execute_result"
    }
   ],
   "source": [
    "phase4"
   ]
  },
  {
   "cell_type": "code",
   "execution_count": 17,
   "metadata": {},
   "outputs": [
    {
     "data": {
      "text/plain": [
       "[3, 15, 3, 16, 1002, 16, 10, 16, 1, 16, 15, 15, 4, 15, 99, 11, 10]"
      ]
     },
     "execution_count": 17,
     "metadata": {},
     "output_type": "execute_result"
    }
   ],
   "source": [
    "phase1"
   ]
  },
  {
   "cell_type": "code",
   "execution_count": null,
   "metadata": {},
   "outputs": [],
   "source": []
  }
 ],
 "metadata": {
  "kernelspec": {
   "display_name": "Python 3",
   "language": "python",
   "name": "python3"
  },
  "language_info": {
   "codemirror_mode": {
    "name": "ipython",
    "version": 3
   },
   "file_extension": ".py",
   "mimetype": "text/x-python",
   "name": "python",
   "nbconvert_exporter": "python",
   "pygments_lexer": "ipython3",
   "version": "3.7.3"
  }
 },
 "nbformat": 4,
 "nbformat_minor": 2
}
