{
 "cells": [
  {
   "cell_type": "markdown",
   "metadata": {},
   "source": [
    "--- Day 7: Amplification Circuit ---\n",
    "Based on the navigational maps, you're going to need to send more power to your ship's thrusters to reach Santa in time. To do this, you'll need to configure a series of amplifiers already installed on the ship.\n",
    "\n",
    "There are five amplifiers connected in series; each one receives an input signal and produces an output signal. They are connected such that the first amplifier's output leads to the second amplifier's input, the second amplifier's output leads to the third amplifier's input, and so on. The first amplifier's input value is 0, and the last amplifier's output leads to your ship's thrusters.\n",
    "\n",
    "    O-------O  O-------O  O-------O  O-------O  O-------O\n",
    "0 ->| Amp A |->| Amp B |->| Amp C |->| Amp D |->| Amp E |-> (to thrusters)\n",
    "    O-------O  O-------O  O-------O  O-------O  O-------O\n",
    "    \n",
    "The Elves have sent you some Amplifier Controller Software (your puzzle input), a program that should run on your existing Intcode computer. Each amplifier will need to run a copy of the program.\n",
    "\n",
    "When a copy of the program starts running on an amplifier, it will first use an input instruction to ask the amplifier for its current phase setting (an integer from 0 to 4). Each phase setting is used exactly once, but the Elves can't remember which amplifier needs which phase setting.\n",
    "\n",
    "The program will then call another input instruction to get the amplifier's input signal, compute the correct output signal, and supply it back to the amplifier with an output instruction. (If the amplifier has not yet received an input signal, it waits until one arrives.)\n",
    "\n",
    "Your job is to find the largest output signal that can be sent to the thrusters by trying every possible combination of phase settings on the amplifiers. Make sure that memory is not shared or reused between copies of the program.\n",
    "\n",
    "For example, suppose you want to try the phase setting sequence 3,1,2,4,0, which would mean setting amplifier A to phase setting 3, amplifier B to setting 1, C to 2, D to 4, and E to 0. Then, you could determine the output signal that gets sent from amplifier E to the thrusters with the following steps:\n",
    "\n",
    "Start the copy of the amplifier controller software that will run on amplifier A. At its first input instruction, provide it the amplifier's phase setting, 3. At its second input instruction, provide it the input signal, 0. After some calculations, it will use an output instruction to indicate the amplifier's output signal.\n",
    "Start the software for amplifier B. Provide it the phase setting (1) and then whatever output signal was produced from amplifier A. It will then produce a new output signal destined for amplifier C.\n",
    "Start the software for amplifier C, provide the phase setting (2) and the value from amplifier B, then collect its output signal.\n",
    "Run amplifier D's software, provide the phase setting (4) and input value, and collect its output signal.\n",
    "Run amplifier E's software, provide the phase setting (0) and input value, and collect its output signal.\n",
    "The final output signal from amplifier E would be sent to the thrusters. However, this phase setting sequence may not have been the best one; another sequence might have sent a higher signal to the thrusters.\n",
    "\n",
    "Here are some example programs:\n",
    "\n",
    "Max thruster signal 43210 (from phase setting sequence 4,3,2,1,0):\n",
    "\n",
    "3,15,3,16,1002,16,10,16,1,16,15,15,4,15,99,0,0\n",
    "Max thruster signal 54321 (from phase setting sequence 0,1,2,3,4):\n",
    "\n",
    "3,23,3,24,1002,24,10,24,1002,23,-1,23,\n",
    "101,5,23,23,1,24,23,23,4,23,99,0,0\n",
    "Max thruster signal 65210 (from phase setting sequence 1,0,4,3,2):\n",
    "\n",
    "3,31,3,32,1002,32,10,32,1001,31,-2,31,1007,31,0,33,\n",
    "1002,33,7,33,1,33,31,31,1,32,31,31,4,31,99,0,0,0\n",
    "Try every combination of phase settings on the amplifiers. What is the highest signal that can be sent to the thrusters?"
   ]
  },
  {
   "cell_type": "code",
   "execution_count": 1,
   "metadata": {},
   "outputs": [],
   "source": [
    "puzzle_input = [3,8,1001,8,10,8,105,1,0,0,21,30,51,72,81,94,175,256,337,418,99999,3,9,101,5,9,9,4,9,99,3,9,1001,9,3,9,1002,9,2,9,1001,9,2,9,1002,9,5,9,4,9,99,3,9,1002,9,4,9,101,4,9,9,102,5,9,9,101,3,9,9,4,9,99,3,9,1002,9,4,9,4,9,99,3,9,102,3,9,9,1001,9,4,9,4,9,99,3,9,1001,9,2,9,4,9,3,9,101,2,9,9,4,9,3,9,101,2,9,9,4,9,3,9,1001,9,1,9,4,9,3,9,101,1,9,9,4,9,3,9,101,1,9,9,4,9,3,9,101,1,9,9,4,9,3,9,1002,9,2,9,4,9,3,9,101,1,9,9,4,9,3,9,1002,9,2,9,4,9,99,3,9,102,2,9,9,4,9,3,9,1002,9,2,9,4,9,3,9,1001,9,1,9,4,9,3,9,102,2,9,9,4,9,3,9,1001,9,2,9,4,9,3,9,1002,9,2,9,4,9,3,9,101,1,9,9,4,9,3,9,101,1,9,9,4,9,3,9,101,2,9,9,4,9,3,9,102,2,9,9,4,9,99,3,9,102,2,9,9,4,9,3,9,102,2,9,9,4,9,3,9,1002,9,2,9,4,9,3,9,1001,9,1,9,4,9,3,9,1002,9,2,9,4,9,3,9,102,2,9,9,4,9,3,9,102,2,9,9,4,9,3,9,102,2,9,9,4,9,3,9,102,2,9,9,4,9,3,9,102,2,9,9,4,9,99,3,9,1001,9,2,9,4,9,3,9,101,1,9,9,4,9,3,9,1001,9,1,9,4,9,3,9,1001,9,1,9,4,9,3,9,102,2,9,9,4,9,3,9,101,1,9,9,4,9,3,9,1001,9,2,9,4,9,3,9,1002,9,2,9,4,9,3,9,1001,9,1,9,4,9,3,9,101,2,9,9,4,9,99,3,9,101,2,9,9,4,9,3,9,101,2,9,9,4,9,3,9,101,1,9,9,4,9,3,9,1001,9,1,9,4,9,3,9,1002,9,2,9,4,9,3,9,1001,9,1,9,4,9,3,9,1001,9,1,9,4,9,3,9,1001,9,2,9,4,9,3,9,1001,9,1,9,4,9,3,9,101,1,9,9,4,9,99]"
   ]
  },
  {
   "cell_type": "code",
   "execution_count": 1,
   "metadata": {},
   "outputs": [],
   "source": [
    "def int_something_or_other_revised_again(input_list,input_param):\n",
    "    ouput_list = input_list.copy()\n",
    "    i=0\n",
    "    while(int(str(ouput_list[i])[-2:])!=99):\n",
    "        string = str(ouput_list[i])\n",
    "        opcode = int(string[-2:])\n",
    "        \n",
    "        if len(string)>=3:\n",
    "            A = int(string[-3])\n",
    "        else:\n",
    "            A = 0\n",
    "        if len(string)>=4:\n",
    "            B = int(string[-4])\n",
    "        else:\n",
    "            B = 0\n",
    "        if len(string)>=5:\n",
    "            C = int(string[-5])\n",
    "        else:\n",
    "            C = 0\n",
    "            \n",
    "        if(A == 0):\n",
    "            par1 = ouput_list[ouput_list[i+1]]\n",
    "        else:\n",
    "            par1 = ouput_list[i+1]\n",
    "        \n",
    "        if((opcode!=3) and (opcode!=4)):\n",
    "            if(B == 0):\n",
    "                par2 = ouput_list[ouput_list[i+2]]\n",
    "            else:\n",
    "                par2 = ouput_list[i+2]\n",
    "            #if(B == 0):\n",
    "                #par3 = ouput_list[ouput_list[i+3]]\n",
    "            #else:\n",
    "                #par3 = ouput_list[i+3]\n",
    "        \n",
    "        if(opcode==1):\n",
    "            ouput_list[ouput_list[i+3]] = par1 + par2\n",
    "            i = i + 4\n",
    "        elif(opcode==2):\n",
    "            ouput_list[ouput_list[i+3]] = par1 * par2\n",
    "            i = i + 4\n",
    "        elif(opcode==3):\n",
    "            ouput_list[ouput_list[i+1]] = input_param\n",
    "            i = i + 2\n",
    "        elif(opcode==4):\n",
    "            output = par1\n",
    "            print(output)\n",
    "            print(ouput_list)\n",
    "            i = i + 2\n",
    "        elif(opcode==5):\n",
    "            if(par1!=0):\n",
    "                i = par2\n",
    "            else:\n",
    "                i = i + 3\n",
    "        elif(opcode==6):\n",
    "            if(par1==0):\n",
    "                i = par2\n",
    "            else:\n",
    "                i = i + 3\n",
    "        elif(opcode==7):\n",
    "            if(par1<par2):\n",
    "                ouput_list[ouput_list[i+3]]=1\n",
    "            else:\n",
    "                ouput_list[ouput_list[i+3]]=0\n",
    "            i = i + 4\n",
    "        elif(opcode==8):\n",
    "            if(par1==par2):\n",
    "                ouput_list[ouput_list[i+3]]=1\n",
    "            else:\n",
    "                ouput_list[ouput_list[i+3]]=0\n",
    "            i = i + 4\n",
    "            \n",
    "        else:\n",
    "            print(\"error\")\n",
    "        \n",
    "    return(ouput_list)"
   ]
  },
  {
   "cell_type": "code",
   "execution_count": 4,
   "metadata": {},
   "outputs": [
    {
     "name": "stdout",
     "output_type": "stream",
     "text": [
      "41\n",
      "[3, 23, 3, 24, 1002, 24, 10, 24, 1002, 23, -1, 23, 101, 5, 23, 23, 1, 24, 23, 23, 4, 23, 99, 41, 40]\n",
      "32\n",
      "[3, 23, 3, 24, 1002, 24, 10, 24, 1002, 23, -1, 23, 101, 5, 23, 23, 1, 24, 23, 23, 4, 23, 99, 32, 30]\n",
      "23\n",
      "[3, 23, 3, 24, 1002, 24, 10, 24, 1002, 23, -1, 23, 101, 5, 23, 23, 1, 24, 23, 23, 4, 23, 99, 23, 20]\n",
      "14\n",
      "[3, 23, 3, 24, 1002, 24, 10, 24, 1002, 23, -1, 23, 101, 5, 23, 23, 1, 24, 23, 23, 4, 23, 99, 14, 10]\n",
      "5\n",
      "[3, 23, 3, 24, 1002, 24, 10, 24, 1002, 23, -1, 23, 101, 5, 23, 23, 1, 24, 23, 23, 4, 23, 99, 5, 0]\n"
     ]
    }
   ],
   "source": [
    "test_input = [3,23,3,24,1002,24,10,24,1002,23,-1,23,\n",
    "101,5,23,23,1,24,23,23,4,23,99,0,0]\n",
    "\n",
    "phase4 = int_something_or_other_revised_again(test_input,4)\n",
    "phase3 = int_something_or_other_revised_again(test_input,3)\n",
    "phase2 = int_something_or_other_revised_again(test_input,2)\n",
    "phase1 = int_something_or_other_revised_again(test_input,1)\n",
    "phase0 = int_something_or_other_revised_again(test_input,0)"
   ]
  },
  {
   "cell_type": "code",
   "execution_count": 13,
   "metadata": {},
   "outputs": [
    {
     "name": "stdout",
     "output_type": "stream",
     "text": [
      "5\n",
      "[3, 23, 3, 24, 1002, 24, 10, 24, 1002, 23, -1, 23, 101, 5, 23, 23, 1, 24, 23, 23, 4, 23, 99, 5, 0]\n",
      "14\n",
      "[3, 23, 3, 24, 1002, 24, 10, 24, 1002, 23, -1, 23, 101, 5, 23, 23, 1, 24, 23, 23, 4, 23, 99, 14, 10]\n",
      "50\n",
      "[3, 23, 3, 24, 1002, 24, 10, 24, 1002, 23, -1, 23, 101, 5, 23, 23, 1, 24, 23, 23, 4, 23, 99, 50, 50]\n",
      "455\n",
      "[3, 23, 3, 24, 1002, 24, 10, 24, 1002, 23, -1, 23, 101, 5, 23, 23, 1, 24, 23, 23, 4, 23, 99, 455, 500]\n",
      "4100\n",
      "[3, 23, 3, 24, 1002, 24, 10, 24, 1002, 23, -1, 23, 101, 5, 23, 23, 1, 24, 23, 23, 4, 23, 99, 4100, 4550]\n",
      "36905\n",
      "[3, 23, 3, 24, 1002, 24, 10, 24, 1002, 23, -1, 23, 101, 5, 23, 23, 1, 24, 23, 23, 4, 23, 99, 36905, 41000]\n"
     ]
    },
    {
     "data": {
      "text/plain": [
       "[3,\n",
       " 23,\n",
       " 3,\n",
       " 24,\n",
       " 1002,\n",
       " 24,\n",
       " 10,\n",
       " 24,\n",
       " 1002,\n",
       " 23,\n",
       " -1,\n",
       " 23,\n",
       " 101,\n",
       " 5,\n",
       " 23,\n",
       " 23,\n",
       " 1,\n",
       " 24,\n",
       " 23,\n",
       " 23,\n",
       " 4,\n",
       " 23,\n",
       " 99,\n",
       " 36905,\n",
       " 41000]"
      ]
     },
     "execution_count": 13,
     "metadata": {},
     "output_type": "execute_result"
    }
   ],
   "source": [
    "int_something_or_other_revised_again(phase0,0)\n",
    "int_something_or_other_revised_again([3, 23, 3, 24, 1002, 24, 10, 24, 1002, 23, -1, 23, 101, 5, 23, 23, 1, 24, 23, 23, 4, 23, 99, 5, 0],1)\n",
    "int_something_or_other_revised_again([3, 23, 3, 24, 1002, 24, 10, 24, 1002, 23, -1, 23, 101, 5, 23, 23, 1, 24, 23, 23, 4, 23, 99, 14, 10],5)\n",
    "int_something_or_other_revised_again(phase2,50)\n",
    "int_something_or_other_revised_again(phase3,455)\n",
    "int_something_or_other_revised_again(phase4,4100)"
   ]
  },
  {
   "cell_type": "code",
   "execution_count": 12,
   "metadata": {},
   "outputs": [
    {
     "name": "stdout",
     "output_type": "stream",
     "text": [
      "0\n"
     ]
    },
    {
     "data": {
      "text/plain": [
       "[3, 15, 3, 16, 1002, 16, 10, 16, 1, 16, 15, 15, 4, 15, 99, 0, 0]"
      ]
     },
     "execution_count": 12,
     "metadata": {},
     "output_type": "execute_result"
    }
   ],
   "source": [
    "int_something_or_other_revised_again(phase3,0)"
   ]
  },
  {
   "cell_type": "code",
   "execution_count": 13,
   "metadata": {},
   "outputs": [
    {
     "name": "stdout",
     "output_type": "stream",
     "text": [
      "0\n"
     ]
    },
    {
     "data": {
      "text/plain": [
       "[3, 15, 3, 16, 1002, 16, 10, 16, 1, 16, 15, 15, 4, 15, 99, 0, 0]"
      ]
     },
     "execution_count": 13,
     "metadata": {},
     "output_type": "execute_result"
    }
   ],
   "source": [
    "int_something_or_other_revised_again(phase2,0)"
   ]
  },
  {
   "cell_type": "code",
   "execution_count": 14,
   "metadata": {},
   "outputs": [
    {
     "name": "stdout",
     "output_type": "stream",
     "text": [
      "0\n"
     ]
    },
    {
     "data": {
      "text/plain": [
       "[3, 15, 3, 16, 1002, 16, 10, 16, 1, 16, 15, 15, 4, 15, 99, 0, 0]"
      ]
     },
     "execution_count": 14,
     "metadata": {},
     "output_type": "execute_result"
    }
   ],
   "source": [
    "int_something_or_other_revised_again(phase1,0)"
   ]
  },
  {
   "cell_type": "code",
   "execution_count": 15,
   "metadata": {},
   "outputs": [
    {
     "name": "stdout",
     "output_type": "stream",
     "text": [
      "0\n"
     ]
    },
    {
     "data": {
      "text/plain": [
       "[3, 15, 3, 16, 1002, 16, 10, 16, 1, 16, 15, 15, 4, 15, 99, 0, 0]"
      ]
     },
     "execution_count": 15,
     "metadata": {},
     "output_type": "execute_result"
    }
   ],
   "source": [
    "int_something_or_other_revised_again(phase0,0)"
   ]
  },
  {
   "cell_type": "code",
   "execution_count": 16,
   "metadata": {},
   "outputs": [
    {
     "data": {
      "text/plain": [
       "[3, 15, 3, 16, 1002, 16, 10, 16, 1, 16, 15, 15, 4, 15, 99, 44, 40]"
      ]
     },
     "execution_count": 16,
     "metadata": {},
     "output_type": "execute_result"
    }
   ],
   "source": [
    "phase4"
   ]
  },
  {
   "cell_type": "code",
   "execution_count": 17,
   "metadata": {},
   "outputs": [
    {
     "data": {
      "text/plain": [
       "[3, 15, 3, 16, 1002, 16, 10, 16, 1, 16, 15, 15, 4, 15, 99, 11, 10]"
      ]
     },
     "execution_count": 17,
     "metadata": {},
     "output_type": "execute_result"
    }
   ],
   "source": [
    "phase1"
   ]
  },
  {
   "cell_type": "code",
   "execution_count": null,
   "metadata": {},
   "outputs": [],
   "source": []
  }
 ],
 "metadata": {
  "kernelspec": {
   "display_name": "Python 3",
   "language": "python",
   "name": "python3"
  },
  "language_info": {
   "codemirror_mode": {
    "name": "ipython",
    "version": 3
   },
   "file_extension": ".py",
   "mimetype": "text/x-python",
   "name": "python",
   "nbconvert_exporter": "python",
   "pygments_lexer": "ipython3",
   "version": "3.7.3"
  }
 },
 "nbformat": 4,
 "nbformat_minor": 2
}
