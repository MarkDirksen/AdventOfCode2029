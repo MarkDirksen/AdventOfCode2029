{
 "cells": [
  {
   "cell_type": "code",
   "execution_count": 56,
   "metadata": {},
   "outputs": [],
   "source": [
    "import os\n",
    "import numpy as np\n",
    "import re"
   ]
  },
  {
   "cell_type": "code",
   "execution_count": 126,
   "metadata": {},
   "outputs": [],
   "source": [
    "filepath = 'exampledata.txt'\n",
    "exampledata = []\n",
    "with open(filepath) as fp:\n",
    "    line = fp.readline()\n",
    "    cnt = 1\n",
    "    while line:\n",
    "        exampledata.append(line.strip())\n",
    "        line = fp.readline()\n",
    "        cnt += 1"
   ]
  },
  {
   "cell_type": "code",
   "execution_count": 127,
   "metadata": {},
   "outputs": [],
   "source": [
    "exampledata_array = []\n",
    "for i in exampledata:\n",
    "    reg1 = re.search('(.*)\\)', i)\n",
    "    reg2 = re.search('\\)(.*)', i)\n",
    "    obj1 = i[:reg1.start()] + i[reg1.end():]\n",
    "    obj2 = i[:reg2.start()] + i[reg2.end():]\n",
    "    exampledata_array.append([obj2,obj1])"
   ]
  },
  {
   "cell_type": "code",
   "execution_count": 128,
   "metadata": {},
   "outputs": [],
   "source": [
    "exampledata_array = np.array(exampledata_array)"
   ]
  },
  {
   "cell_type": "code",
   "execution_count": 66,
   "metadata": {},
   "outputs": [],
   "source": [
    "filepath = 'data.txt'\n",
    "data = []\n",
    "with open(filepath) as fp:\n",
    "    line = fp.readline()\n",
    "    cnt = 1\n",
    "    while line:\n",
    "        data.append(line.strip())\n",
    "        line = fp.readline()\n",
    "        cnt += 1"
   ]
  },
  {
   "cell_type": "code",
   "execution_count": 68,
   "metadata": {},
   "outputs": [],
   "source": [
    "data_array = []\n",
    "for i in data:\n",
    "    reg1 = re.search('(.*)\\)', i)\n",
    "    reg2 = re.search('\\)(.*)', i)\n",
    "    obj1 = i[:reg1.start()] + i[reg1.end():]\n",
    "    obj2 = i[:reg2.start()] + i[reg2.end():]\n",
    "    data_array.append([obj2,obj1])"
   ]
  },
  {
   "cell_type": "code",
   "execution_count": 69,
   "metadata": {},
   "outputs": [],
   "source": [
    "data_array = np.array(data_array)"
   ]
  },
  {
   "cell_type": "code",
   "execution_count": 70,
   "metadata": {},
   "outputs": [],
   "source": [
    "data_unique = list(set(data_array[:,1]))"
   ]
  },
  {
   "cell_type": "code",
   "execution_count": 72,
   "metadata": {},
   "outputs": [],
   "source": [
    "c = 0\n",
    "for i in data_unique:\n",
    "    j = i\n",
    "    while not(j == 'COM'):\n",
    "        j = data_array[data_array[:,1] == j,0]\n",
    "        c = c+1"
   ]
  },
  {
   "cell_type": "code",
   "execution_count": 73,
   "metadata": {},
   "outputs": [
    {
     "data": {
      "text/plain": [
       "402879"
      ]
     },
     "execution_count": 73,
     "metadata": {},
     "output_type": "execute_result"
    }
   ],
   "source": [
    "c"
   ]
  },
  {
   "cell_type": "code",
   "execution_count": 140,
   "metadata": {},
   "outputs": [],
   "source": [
    "start = data_array[data_array[:,1] == 'YOU',0]\n",
    "\n",
    "def GetNeighbors(Node,array):\n",
    "    A = list(array[array[:,0] == Node,1])\n",
    "    B = list(array[array[:,1] == Node,0])\n",
    "    return(A+B)\n",
    "\n",
    "def GetPath(Node,FromNode,array):\n",
    "    neighbors = GetNeighbors(Node,array)\n",
    "    add_neighbors = [i for i in neighbors if not(i == FromNode)]\n",
    "    \n",
    "    if 'SAN' in add_neighbors:\n",
    "        return([Node])\n",
    "    elif not add_neighbors:\n",
    "        return([])\n",
    "    else:\n",
    "        for i in add_neighbors:\n",
    "            x = GetPath(i,Node,array)\n",
    "            if not(not x):\n",
    "                return(x + [Node])\n",
    "            "
   ]
  },
  {
   "cell_type": "code",
   "execution_count": 141,
   "metadata": {},
   "outputs": [
    {
     "data": {
      "text/plain": [
       "['I', 'D', 'E', 'J', 'K']"
      ]
     },
     "execution_count": 141,
     "metadata": {},
     "output_type": "execute_result"
    }
   ],
   "source": [
    "GetPath(list(exampledata_array[exampledata_array[:,1] == 'YOU',0])[0],'YOU',exampledata_array)"
   ]
  },
  {
   "cell_type": "code",
   "execution_count": 143,
   "metadata": {},
   "outputs": [
    {
     "data": {
      "text/plain": [
       "485"
      ]
     },
     "execution_count": 143,
     "metadata": {},
     "output_type": "execute_result"
    }
   ],
   "source": [
    "len(GetPath(list(data_array[data_array[:,1] == 'YOU',0])[0],'YOU',data_array))"
   ]
  }
 ],
 "metadata": {
  "kernelspec": {
   "display_name": "Python 3",
   "language": "python",
   "name": "python3"
  },
  "language_info": {
   "codemirror_mode": {
    "name": "ipython",
    "version": 3
   },
   "file_extension": ".py",
   "mimetype": "text/x-python",
   "name": "python",
   "nbconvert_exporter": "python",
   "pygments_lexer": "ipython3",
   "version": "3.7.3"
  }
 },
 "nbformat": 4,
 "nbformat_minor": 2
}
