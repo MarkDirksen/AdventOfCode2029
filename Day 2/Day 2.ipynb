{
 "cells": [
  {
   "cell_type": "code",
   "execution_count": 62,
   "metadata": {},
   "outputs": [],
   "source": [
    "input_set = [1,0,0,3,1,1,2,3,1,3,4,3,1,5,0,3,2,13,1,19,1,10,19,23,1,23,9,27,1,5,27,31,2,31,13,35,1,35,5,39,1,39,5,43,2,13,43,47,2,47,10,51,1,51,6,55,2,55,9,59,1,59,5,63,1,63,13,67,2,67,6,71,1,71,5,75,1,75,5,79,1,79,9,83,1,10,83,87,1,87,10,91,1,91,9,95,1,10,95,99,1,10,99,103,2,103,10,107,1,107,9,111,2,6,111,115,1,5,115,119,2,119,13,123,1,6,123,127,2,9,127,131,1,131,5,135,1,135,13,139,1,139,10,143,1,2,143,147,1,147,10,0,99,2,0,14,0]"
   ]
  },
  {
   "cell_type": "markdown",
   "metadata": {},
   "source": [
    "An Intcode program is a list of integers separated by commas (like 1,0,0,3,99). To run one, start by looking at the first integer (called position 0). Here, you will find an opcode - either 1, 2, or 99. The opcode indicates what to do; for example, 99 means that the program is finished and should immediately halt. Encountering an unknown opcode means something went wrong.\n",
    "\n",
    "Opcode 1 adds together numbers read from two positions and stores the result in a third position. The three integers immediately after the opcode tell you these three positions - the first two indicate the positions from which you should read the input values, and the third indicates the position at which the output should be stored.\n",
    "\n",
    "For example, if your Intcode computer encounters 1,10,20,30, it should read the values at positions 10 and 20, add those values, and then overwrite the value at position 30 with their sum.\n",
    "\n",
    "Opcode 2 works exactly like opcode 1, except it multiplies the two inputs instead of adding them. Again, the three integers after the opcode indicate where the inputs and outputs are, not their values.\n",
    "\n",
    "Once you're done processing an opcode, move to the next one by stepping forward 4 positions.\n",
    "\n",
    "For example, suppose you have the following program:\n",
    "\n",
    "1,9,10,3,2,3,11,0,99,30,40,50\n",
    "For the purposes of illustration, here is the same program split into multiple lines:\n",
    "\n",
    "1,9,10,3,\n",
    "2,3,11,0,\n",
    "99,\n",
    "30,40,50\n",
    "The first four integers, 1,9,10,3, are at positions 0, 1, 2, and 3. Together, they represent the first opcode (1, addition), the positions of the two inputs (9 and 10), and the position of the output (3). To handle this opcode, you first need to get the values at the input positions: position 9 contains 30, and position 10 contains 40. Add these numbers together to get 70. Then, store this value at the output position; here, the output position (3) is at position 3, so it overwrites itself. Afterward, the program looks like this:\n",
    "\n",
    "1,9,10,70,\n",
    "2,3,11,0,\n",
    "99,\n",
    "30,40,50\n",
    "Step forward 4 positions to reach the next opcode, 2. This opcode works just like the previous, but it multiplies instead of adding. The inputs are at positions 3 and 11; these positions contain 70 and 50 respectively. Multiplying these produces 3500; this is stored at position 0:\n",
    "\n",
    "3500,9,10,70,\n",
    "2,3,11,0,\n",
    "99,\n",
    "30,40,50\n",
    "Stepping forward 4 more positions arrives at opcode 99, halting the program.\n",
    "\n",
    "Here are the initial and final states of a few more small programs:\n",
    "\n",
    "1,0,0,0,99 becomes 2,0,0,0,99 (1 + 1 = 2).\n",
    "2,3,0,3,99 becomes 2,3,0,6,99 (3 * 2 = 6).\n",
    "2,4,4,5,99,0 becomes 2,4,4,5,99,9801 (99 * 99 = 9801).\n",
    "1,1,1,4,99,5,6,0,99 becomes 30,1,1,4,2,5,6,0,99.\n",
    "Once you have a working computer, the first step is to restore the gravity assist program (your puzzle input) to the \"1202 program alarm\" state it had just before the last computer caught fire. To do this, before running the program, replace position 1 with the value 12 and replace position 2 with the value 2. What value is left at position 0 after the program halts?"
   ]
  },
  {
   "cell_type": "code",
   "execution_count": 63,
   "metadata": {},
   "outputs": [],
   "source": [
    "input_set[1:3] = [12,2]"
   ]
  },
  {
   "cell_type": "code",
   "execution_count": 64,
   "metadata": {},
   "outputs": [],
   "source": [
    "def int_something_or_other(input_list):\n",
    "    ouput_list = input_list.copy()\n",
    "    i=0\n",
    "    while(ouput_list[i]!=99):\n",
    "        a = ouput_list[ouput_list[i+1]]\n",
    "        b = ouput_list[ouput_list[i+2]]\n",
    "        index = ouput_list[i+3]\n",
    "        if(ouput_list[i]==1):\n",
    "            ouput_list[index] = a + b\n",
    "        elif(ouput_list[i]==2):\n",
    "            ouput_list[index] = a * b\n",
    "        else:\n",
    "            print(\"error\")\n",
    "        i = i + 4\n",
    "    return(ouput_list)"
   ]
  },
  {
   "cell_type": "code",
   "execution_count": 65,
   "metadata": {},
   "outputs": [
    {
     "data": {
      "text/plain": [
       "[2, 0, 0, 0, 99]"
      ]
     },
     "execution_count": 65,
     "metadata": {},
     "output_type": "execute_result"
    }
   ],
   "source": [
    "int_something_or_other([1,0,0,0,99])"
   ]
  },
  {
   "cell_type": "code",
   "execution_count": 66,
   "metadata": {},
   "outputs": [
    {
     "data": {
      "text/plain": [
       "[2, 3, 0, 6, 99]"
      ]
     },
     "execution_count": 66,
     "metadata": {},
     "output_type": "execute_result"
    }
   ],
   "source": [
    "int_something_or_other([2,3,0,3,99])"
   ]
  },
  {
   "cell_type": "code",
   "execution_count": 67,
   "metadata": {},
   "outputs": [
    {
     "data": {
      "text/plain": [
       "[2, 4, 4, 5, 99, 9801]"
      ]
     },
     "execution_count": 67,
     "metadata": {},
     "output_type": "execute_result"
    }
   ],
   "source": [
    "int_something_or_other([2,4,4,5,99,0])"
   ]
  },
  {
   "cell_type": "code",
   "execution_count": 68,
   "metadata": {},
   "outputs": [
    {
     "data": {
      "text/plain": [
       "[30, 1, 1, 4, 2, 5, 6, 0, 99]"
      ]
     },
     "execution_count": 68,
     "metadata": {},
     "output_type": "execute_result"
    }
   ],
   "source": [
    "int_something_or_other([1,1,1,4,99,5,6,0,99])"
   ]
  },
  {
   "cell_type": "code",
   "execution_count": 72,
   "metadata": {},
   "outputs": [],
   "source": [
    "adj_input_set = input_set.copy()\n",
    "adj_input_set[1:3] = [12,2]"
   ]
  },
  {
   "cell_type": "code",
   "execution_count": 73,
   "metadata": {},
   "outputs": [
    {
     "data": {
      "text/plain": [
       "[4930687,\n",
       " 12,\n",
       " 2,\n",
       " 2,\n",
       " 1,\n",
       " 1,\n",
       " 2,\n",
       " 3,\n",
       " 1,\n",
       " 3,\n",
       " 4,\n",
       " 3,\n",
       " 1,\n",
       " 5,\n",
       " 0,\n",
       " 3,\n",
       " 2,\n",
       " 13,\n",
       " 1,\n",
       " 60,\n",
       " 1,\n",
       " 10,\n",
       " 19,\n",
       " 64,\n",
       " 1,\n",
       " 23,\n",
       " 9,\n",
       " 67,\n",
       " 1,\n",
       " 5,\n",
       " 27,\n",
       " 68,\n",
       " 2,\n",
       " 31,\n",
       " 13,\n",
       " 340,\n",
       " 1,\n",
       " 35,\n",
       " 5,\n",
       " 341,\n",
       " 1,\n",
       " 39,\n",
       " 5,\n",
       " 342,\n",
       " 2,\n",
       " 13,\n",
       " 43,\n",
       " 1710,\n",
       " 2,\n",
       " 47,\n",
       " 10,\n",
       " 6840,\n",
       " 1,\n",
       " 51,\n",
       " 6,\n",
       " 6842,\n",
       " 2,\n",
       " 55,\n",
       " 9,\n",
       " 20526,\n",
       " 1,\n",
       " 59,\n",
       " 5,\n",
       " 20527,\n",
       " 1,\n",
       " 63,\n",
       " 13,\n",
       " 20532,\n",
       " 2,\n",
       " 67,\n",
       " 6,\n",
       " 41064,\n",
       " 1,\n",
       " 71,\n",
       " 5,\n",
       " 41065,\n",
       " 1,\n",
       " 75,\n",
       " 5,\n",
       " 41066,\n",
       " 1,\n",
       " 79,\n",
       " 9,\n",
       " 41069,\n",
       " 1,\n",
       " 10,\n",
       " 83,\n",
       " 41073,\n",
       " 1,\n",
       " 87,\n",
       " 10,\n",
       " 41077,\n",
       " 1,\n",
       " 91,\n",
       " 9,\n",
       " 41080,\n",
       " 1,\n",
       " 10,\n",
       " 95,\n",
       " 41084,\n",
       " 1,\n",
       " 10,\n",
       " 99,\n",
       " 41088,\n",
       " 2,\n",
       " 103,\n",
       " 10,\n",
       " 164352,\n",
       " 1,\n",
       " 107,\n",
       " 9,\n",
       " 164355,\n",
       " 2,\n",
       " 6,\n",
       " 111,\n",
       " 328710,\n",
       " 1,\n",
       " 5,\n",
       " 115,\n",
       " 328711,\n",
       " 2,\n",
       " 119,\n",
       " 13,\n",
       " 1643555,\n",
       " 1,\n",
       " 6,\n",
       " 123,\n",
       " 1643557,\n",
       " 2,\n",
       " 9,\n",
       " 127,\n",
       " 4930671,\n",
       " 1,\n",
       " 131,\n",
       " 5,\n",
       " 4930672,\n",
       " 1,\n",
       " 135,\n",
       " 13,\n",
       " 4930677,\n",
       " 1,\n",
       " 139,\n",
       " 10,\n",
       " 4930681,\n",
       " 1,\n",
       " 2,\n",
       " 143,\n",
       " 4930683,\n",
       " 1,\n",
       " 147,\n",
       " 10,\n",
       " 0,\n",
       " 99,\n",
       " 2,\n",
       " 0,\n",
       " 14,\n",
       " 0]"
      ]
     },
     "execution_count": 73,
     "metadata": {},
     "output_type": "execute_result"
    }
   ],
   "source": [
    "int_something_or_other(adj_input_set)"
   ]
  },
  {
   "cell_type": "code",
   "execution_count": 78,
   "metadata": {},
   "outputs": [
    {
     "name": "stdout",
     "output_type": "stream",
     "text": [
      "4930687\n"
     ]
    }
   ],
   "source": [
    "out = int_something_or_other(adj_input_set)\n",
    "print(out[0])"
   ]
  }
 ],
 "metadata": {
  "kernelspec": {
   "display_name": "Python 3",
   "language": "python",
   "name": "python3"
  },
  "language_info": {
   "codemirror_mode": {
    "name": "ipython",
    "version": 3
   },
   "file_extension": ".py",
   "mimetype": "text/x-python",
   "name": "python",
   "nbconvert_exporter": "python",
   "pygments_lexer": "ipython3",
   "version": "3.7.3"
  }
 },
 "nbformat": 4,
 "nbformat_minor": 2
}
